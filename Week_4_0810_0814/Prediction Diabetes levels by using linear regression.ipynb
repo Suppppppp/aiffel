{
 "cells": [
  {
   "cell_type": "markdown",
   "metadata": {},
   "source": [
    "# (1) 데이터 가져오기"
   ]
  },
  {
   "cell_type": "code",
   "execution_count": 35,
   "metadata": {},
   "outputs": [],
   "source": [
    "from sklearn.datasets import load_diabetes\n",
    "import pandas as pd\n",
    "import numpy as np\n",
    "\n",
    "diabetes = load_diabetes()\n",
    "\n",
    "df_x = (diabetes.data)\n",
    "df_y = (diabetes.target)"
   ]
  },
  {
   "cell_type": "markdown",
   "metadata": {},
   "source": [
    "# (2) 모델에 입력할 데이터 X 준비하기"
   ]
  },
  {
   "cell_type": "code",
   "execution_count": 36,
   "metadata": {},
   "outputs": [],
   "source": [
    "\n",
    "x = df_x\n",
    "\n",
    "y = df_y"
   ]
  },
  {
   "cell_type": "markdown",
   "metadata": {},
   "source": [
    "# (4) train 데이터와 test 데이터로 분리하기"
   ]
  },
  {
   "cell_type": "code",
   "execution_count": 37,
   "metadata": {},
   "outputs": [],
   "source": [
    "from sklearn.model_selection import train_test_split\n",
    "\n",
    "x_train,x_test,y_train,y_test = train_test_split(x,y,test_size = 0.2 , random_state = 333)"
   ]
  },
  {
   "cell_type": "markdown",
   "metadata": {},
   "source": [
    "# (5) 모델 준비하기"
   ]
  },
  {
   "cell_type": "code",
   "execution_count": 38,
   "metadata": {},
   "outputs": [],
   "source": [
    "from sklearn.linear_model import LinearRegression\n",
    "\n",
    "w = np.random.rand(10)\n",
    "b = np.random.rand() \n",
    "\n",
    "def model(x,w,b):\n",
    "    pred = 0\n",
    "    for i in range(len(w)):\n",
    "        pred += x[:,i]*w[i]\n",
    "    pred +=b\n",
    "    return pred"
   ]
  },
  {
   "cell_type": "markdown",
   "metadata": {},
   "source": [
    "# (6) 손실함수 loss 정의하기"
   ]
  },
  {
   "cell_type": "code",
   "execution_count": 39,
   "metadata": {},
   "outputs": [],
   "source": [
    "def mse_fn(a,b):\n",
    "    mse = ((a-b)**2).mean()\n",
    "    return mse\n",
    "\n",
    "def loss(x,w,b,y):\n",
    "    pred = model(x,w,b)\n",
    "    l = mse_fn(pred,y)\n",
    "    return l"
   ]
  },
  {
   "cell_type": "markdown",
   "metadata": {},
   "source": [
    "# (7) 기울기를 구하는 gradient 함수 구현하기"
   ]
  },
  {
   "cell_type": "code",
   "execution_count": 40,
   "metadata": {},
   "outputs": [],
   "source": [
    "def gradient(x,w,b,y):\n",
    "    N = len(x)\n",
    "    pred = model(x,w,b)\n",
    "    dw = 1/N * 2 * x.T.dot(pred-y)\n",
    "    \n",
    "    # b의 gradient 계산\n",
    "    db = 2 * (pred-y).mean()\n",
    "    return dw,db\n",
    "    "
   ]
  },
  {
   "cell_type": "code",
   "execution_count": 41,
   "metadata": {},
   "outputs": [
    {
     "data": {
      "text/plain": [
       "(array([11.13183812, 12.37008334, 17.73474382,  8.48471083,  4.64040583,\n",
       "         1.89873847,  5.00408145, -2.46855172, -0.14019227,  1.89848851]),\n",
       " -277.0974433800918)"
      ]
     },
     "execution_count": 41,
     "metadata": {},
     "output_type": "execute_result"
    }
   ],
   "source": [
    "gradient(x_train[0:2],w,b,y_train[0:2])"
   ]
  },
  {
   "cell_type": "code",
   "execution_count": 42,
   "metadata": {
    "scrolled": true
   },
   "outputs": [
    {
     "name": "stdout",
     "output_type": "stream",
     "text": [
      "dW: \n",
      " [-1.37261824 -0.3116953  -4.29115717 -3.22799129 -1.54622117 -1.26900941\n",
      "  2.88849186 -3.14631471 -4.13747438 -2.79675392]\n",
      "\n",
      " db: \n",
      " -303.2151095959513\n"
     ]
    }
   ],
   "source": [
    "dw, db = gradient(x,w,b,y)\n",
    "print(\"dW: \\n\", dw)\n",
    "print(\"\\n db: \\n\", db)\n",
    "\n",
    "del dw, db"
   ]
  },
  {
   "cell_type": "markdown",
   "metadata": {},
   "source": [
    "# (8) 하이퍼 파라미터인 학습률 설정하기"
   ]
  },
  {
   "cell_type": "code",
   "execution_count": 43,
   "metadata": {},
   "outputs": [],
   "source": [
    "learnin_rate = 0.01\n",
    "losses = []"
   ]
  },
  {
   "cell_type": "markdown",
   "metadata": {},
   "source": [
    "# (9) 모델 학습하기"
   ]
  },
  {
   "cell_type": "code",
   "execution_count": 44,
   "metadata": {},
   "outputs": [
    {
     "name": "stdout",
     "output_type": "stream",
     "text": [
      "Iteration 100 : Loss 6411.1208\n",
      "Iteration 200 : Loss 5938.3735\n",
      "Iteration 300 : Loss 5861.1236\n",
      "Iteration 400 : Loss 5792.9259\n",
      "Iteration 500 : Loss 5726.9134\n",
      "Iteration 600 : Loss 5662.8972\n",
      "Iteration 700 : Loss 5600.8081\n",
      "Iteration 800 : Loss 5540.5816\n",
      "Iteration 900 : Loss 5482.1553\n",
      "Iteration 1000 : Loss 5425.4689\n",
      "Iteration 1100 : Loss 5370.4643\n",
      "Iteration 1200 : Loss 5317.0854\n",
      "Iteration 1300 : Loss 5265.2779\n",
      "Iteration 1400 : Loss 5214.9896\n",
      "Iteration 1500 : Loss 5166.1700\n",
      "Iteration 1600 : Loss 5118.7703\n",
      "Iteration 1700 : Loss 5072.7434\n",
      "Iteration 1800 : Loss 5028.0440\n",
      "Iteration 1900 : Loss 4984.6280\n",
      "Iteration 2000 : Loss 4942.4532\n",
      "Iteration 2100 : Loss 4901.4786\n",
      "Iteration 2200 : Loss 4861.6648\n",
      "Iteration 2300 : Loss 4822.9736\n",
      "Iteration 2400 : Loss 4785.3682\n",
      "Iteration 2500 : Loss 4748.8131\n",
      "Iteration 2600 : Loss 4713.2739\n",
      "Iteration 2700 : Loss 4678.7174\n",
      "Iteration 2800 : Loss 4645.1118\n",
      "Iteration 2900 : Loss 4612.4260\n",
      "Iteration 3000 : Loss 4580.6302\n",
      "Iteration 3100 : Loss 4549.6956\n",
      "Iteration 3200 : Loss 4519.5943\n",
      "Iteration 3300 : Loss 4490.2995\n",
      "Iteration 3400 : Loss 4461.7853\n",
      "Iteration 3500 : Loss 4434.0265\n",
      "Iteration 3600 : Loss 4406.9989\n",
      "Iteration 3700 : Loss 4380.6791\n",
      "Iteration 3800 : Loss 4355.0446\n",
      "Iteration 3900 : Loss 4330.0736\n",
      "Iteration 4000 : Loss 4305.7449\n",
      "Iteration 4100 : Loss 4282.0383\n",
      "Iteration 4200 : Loss 4258.9339\n",
      "Iteration 4300 : Loss 4236.4130\n",
      "Iteration 4400 : Loss 4214.4571\n",
      "Iteration 4500 : Loss 4193.0484\n",
      "Iteration 4600 : Loss 4172.1700\n",
      "Iteration 4700 : Loss 4151.8051\n",
      "Iteration 4800 : Loss 4131.9380\n",
      "Iteration 4900 : Loss 4112.5530\n",
      "Iteration 5000 : Loss 4093.6354\n",
      "Iteration 5100 : Loss 4075.1706\n",
      "Iteration 5200 : Loss 4057.1448\n",
      "Iteration 5300 : Loss 4039.5446\n",
      "Iteration 5400 : Loss 4022.3568\n",
      "Iteration 5500 : Loss 4005.5690\n",
      "Iteration 5600 : Loss 3989.1690\n",
      "Iteration 5700 : Loss 3973.1451\n",
      "Iteration 5800 : Loss 3957.4859\n",
      "Iteration 5900 : Loss 3942.1805\n",
      "Iteration 6000 : Loss 3927.2182\n",
      "Iteration 6100 : Loss 3912.5889\n",
      "Iteration 6200 : Loss 3898.2827\n",
      "Iteration 6300 : Loss 3884.2900\n",
      "Iteration 6400 : Loss 3870.6014\n",
      "Iteration 6500 : Loss 3857.2082\n",
      "Iteration 6600 : Loss 3844.1017\n",
      "Iteration 6700 : Loss 3831.2734\n",
      "Iteration 6800 : Loss 3818.7153\n",
      "Iteration 6900 : Loss 3806.4197\n",
      "Iteration 7000 : Loss 3794.3789\n",
      "Iteration 7100 : Loss 3782.5857\n",
      "Iteration 7200 : Loss 3771.0330\n",
      "Iteration 7300 : Loss 3759.7139\n",
      "Iteration 7400 : Loss 3748.6218\n",
      "Iteration 7500 : Loss 3737.7505\n",
      "Iteration 7600 : Loss 3727.0936\n",
      "Iteration 7700 : Loss 3716.6452\n",
      "Iteration 7800 : Loss 3706.3995\n",
      "Iteration 7900 : Loss 3696.3509\n",
      "Iteration 8000 : Loss 3686.4941\n",
      "Iteration 8100 : Loss 3676.8237\n",
      "Iteration 8200 : Loss 3667.3347\n",
      "Iteration 8300 : Loss 3658.0222\n",
      "Iteration 8400 : Loss 3648.8814\n",
      "Iteration 8500 : Loss 3639.9078\n",
      "Iteration 8600 : Loss 3631.0969\n",
      "Iteration 8700 : Loss 3622.4444\n",
      "Iteration 8800 : Loss 3613.9462\n",
      "Iteration 8900 : Loss 3605.5981\n",
      "Iteration 9000 : Loss 3597.3964\n",
      "Iteration 9100 : Loss 3589.3371\n",
      "Iteration 9200 : Loss 3581.4167\n",
      "Iteration 9300 : Loss 3573.6317\n",
      "Iteration 9400 : Loss 3565.9785\n",
      "Iteration 9500 : Loss 3558.4538\n",
      "Iteration 9600 : Loss 3551.0545\n",
      "Iteration 9700 : Loss 3543.7774\n",
      "Iteration 9800 : Loss 3536.6194\n",
      "Iteration 9900 : Loss 3529.5777\n",
      "Iteration 10000 : Loss 3522.6495\n",
      "Iteration 10100 : Loss 3515.8318\n",
      "Iteration 10200 : Loss 3509.1222\n",
      "Iteration 10300 : Loss 3502.5180\n",
      "Iteration 10400 : Loss 3496.0167\n",
      "Iteration 10500 : Loss 3489.6159\n",
      "Iteration 10600 : Loss 3483.3132\n",
      "Iteration 10700 : Loss 3477.1064\n",
      "Iteration 10800 : Loss 3470.9932\n",
      "Iteration 10900 : Loss 3464.9714\n",
      "Iteration 11000 : Loss 3459.0391\n",
      "Iteration 11100 : Loss 3453.1942\n",
      "Iteration 11200 : Loss 3447.4346\n",
      "Iteration 11300 : Loss 3441.7586\n",
      "Iteration 11400 : Loss 3436.1643\n",
      "Iteration 11500 : Loss 3430.6498\n",
      "Iteration 11600 : Loss 3425.2135\n",
      "Iteration 11700 : Loss 3419.8536\n",
      "Iteration 11800 : Loss 3414.5685\n",
      "Iteration 11900 : Loss 3409.3567\n",
      "Iteration 12000 : Loss 3404.2166\n",
      "Iteration 12100 : Loss 3399.1466\n",
      "Iteration 12200 : Loss 3394.1454\n",
      "Iteration 12300 : Loss 3389.2115\n",
      "Iteration 12400 : Loss 3384.3435\n",
      "Iteration 12500 : Loss 3379.5401\n",
      "Iteration 12600 : Loss 3374.8000\n",
      "Iteration 12700 : Loss 3370.1219\n",
      "Iteration 12800 : Loss 3365.5047\n",
      "Iteration 12900 : Loss 3360.9470\n",
      "Iteration 13000 : Loss 3356.4479\n",
      "Iteration 13100 : Loss 3352.0060\n",
      "Iteration 13200 : Loss 3347.6204\n",
      "Iteration 13300 : Loss 3343.2899\n",
      "Iteration 13400 : Loss 3339.0136\n",
      "Iteration 13500 : Loss 3334.7904\n",
      "Iteration 13600 : Loss 3330.6193\n",
      "Iteration 13700 : Loss 3326.4994\n",
      "Iteration 13800 : Loss 3322.4297\n",
      "Iteration 13900 : Loss 3318.4094\n",
      "Iteration 14000 : Loss 3314.4375\n",
      "Iteration 14100 : Loss 3310.5132\n",
      "Iteration 14200 : Loss 3306.6357\n",
      "Iteration 14300 : Loss 3302.8041\n",
      "Iteration 14400 : Loss 3299.0176\n",
      "Iteration 14500 : Loss 3295.2755\n",
      "Iteration 14600 : Loss 3291.5770\n",
      "Iteration 14700 : Loss 3287.9214\n",
      "Iteration 14800 : Loss 3284.3080\n",
      "Iteration 14900 : Loss 3280.7359\n",
      "Iteration 15000 : Loss 3277.2047\n",
      "Iteration 15100 : Loss 3273.7135\n",
      "Iteration 15200 : Loss 3270.2618\n",
      "Iteration 15300 : Loss 3266.8490\n",
      "Iteration 15400 : Loss 3263.4743\n",
      "Iteration 15500 : Loss 3260.1372\n",
      "Iteration 15600 : Loss 3256.8371\n",
      "Iteration 15700 : Loss 3253.5734\n",
      "Iteration 15800 : Loss 3250.3456\n",
      "Iteration 15900 : Loss 3247.1531\n",
      "Iteration 16000 : Loss 3243.9954\n",
      "Iteration 16100 : Loss 3240.8719\n",
      "Iteration 16200 : Loss 3237.7822\n",
      "Iteration 16300 : Loss 3234.7257\n",
      "Iteration 16400 : Loss 3231.7019\n",
      "Iteration 16500 : Loss 3228.7104\n",
      "Iteration 16600 : Loss 3225.7507\n",
      "Iteration 16700 : Loss 3222.8223\n",
      "Iteration 16800 : Loss 3219.9249\n",
      "Iteration 16900 : Loss 3217.0578\n",
      "Iteration 17000 : Loss 3214.2208\n",
      "Iteration 17100 : Loss 3211.4134\n",
      "Iteration 17200 : Loss 3208.6352\n",
      "Iteration 17300 : Loss 3205.8857\n",
      "Iteration 17400 : Loss 3203.1646\n",
      "Iteration 17500 : Loss 3200.4716\n",
      "Iteration 17600 : Loss 3197.8061\n",
      "Iteration 17700 : Loss 3195.1679\n",
      "Iteration 17800 : Loss 3192.5566\n",
      "Iteration 17900 : Loss 3189.9718\n",
      "Iteration 18000 : Loss 3187.4132\n",
      "Iteration 18100 : Loss 3184.8805\n",
      "Iteration 18200 : Loss 3182.3732\n",
      "Iteration 18300 : Loss 3179.8911\n",
      "Iteration 18400 : Loss 3177.4339\n",
      "Iteration 18500 : Loss 3175.0012\n",
      "Iteration 18600 : Loss 3172.5927\n",
      "Iteration 18700 : Loss 3170.2081\n",
      "Iteration 18800 : Loss 3167.8472\n",
      "Iteration 18900 : Loss 3165.5096\n",
      "Iteration 19000 : Loss 3163.1950\n",
      "Iteration 19100 : Loss 3160.9031\n",
      "Iteration 19200 : Loss 3158.6337\n",
      "Iteration 19300 : Loss 3156.3866\n",
      "Iteration 19400 : Loss 3154.1613\n",
      "Iteration 19500 : Loss 3151.9577\n",
      "Iteration 19600 : Loss 3149.7755\n",
      "Iteration 19700 : Loss 3147.6145\n",
      "Iteration 19800 : Loss 3145.4744\n",
      "Iteration 19900 : Loss 3143.3549\n",
      "Iteration 20000 : Loss 3141.2558\n",
      "Iteration 20100 : Loss 3139.1769\n",
      "Iteration 20200 : Loss 3137.1180\n",
      "Iteration 20300 : Loss 3135.0787\n",
      "Iteration 20400 : Loss 3133.0590\n",
      "Iteration 20500 : Loss 3131.0585\n",
      "Iteration 20600 : Loss 3129.0770\n",
      "Iteration 20700 : Loss 3127.1143\n",
      "Iteration 20800 : Loss 3125.1703\n",
      "Iteration 20900 : Loss 3123.2447\n",
      "Iteration 21000 : Loss 3121.3372\n",
      "Iteration 21100 : Loss 3119.4478\n",
      "Iteration 21200 : Loss 3117.5761\n",
      "Iteration 21300 : Loss 3115.7220\n",
      "Iteration 21400 : Loss 3113.8854\n",
      "Iteration 21500 : Loss 3112.0659\n",
      "Iteration 21600 : Loss 3110.2635\n",
      "Iteration 21700 : Loss 3108.4779\n",
      "Iteration 21800 : Loss 3106.7089\n",
      "Iteration 21900 : Loss 3104.9565\n",
      "Iteration 22000 : Loss 3103.2203\n",
      "Iteration 22100 : Loss 3101.5003\n",
      "Iteration 22200 : Loss 3099.7962\n",
      "Iteration 22300 : Loss 3098.1078\n",
      "Iteration 22400 : Loss 3096.4351\n",
      "Iteration 22500 : Loss 3094.7779\n",
      "Iteration 22600 : Loss 3093.1359\n",
      "Iteration 22700 : Loss 3091.5091\n",
      "Iteration 22800 : Loss 3089.8972\n",
      "Iteration 22900 : Loss 3088.3001\n",
      "Iteration 23000 : Loss 3086.7177\n",
      "Iteration 23100 : Loss 3085.1498\n",
      "Iteration 23200 : Loss 3083.5962\n",
      "Iteration 23300 : Loss 3082.0569\n",
      "Iteration 23400 : Loss 3080.5316\n",
      "Iteration 23500 : Loss 3079.0202\n",
      "Iteration 23600 : Loss 3077.5226\n",
      "Iteration 23700 : Loss 3076.0386\n",
      "Iteration 23800 : Loss 3074.5681\n",
      "Iteration 23900 : Loss 3073.1109\n",
      "Iteration 24000 : Loss 3071.6670\n",
      "Iteration 24100 : Loss 3070.2362\n",
      "Iteration 24200 : Loss 3068.8183\n",
      "Iteration 24300 : Loss 3067.4133\n",
      "Iteration 24400 : Loss 3066.0209\n",
      "Iteration 24500 : Loss 3064.6411\n",
      "Iteration 24600 : Loss 3063.2738\n",
      "Iteration 24700 : Loss 3061.9187\n",
      "Iteration 24800 : Loss 3060.5759\n",
      "Iteration 24900 : Loss 3059.2451\n",
      "Iteration 25000 : Loss 3057.9263\n",
      "Iteration 25100 : Loss 3056.6194\n",
      "Iteration 25200 : Loss 3055.3241\n",
      "Iteration 25300 : Loss 3054.0405\n",
      "Iteration 25400 : Loss 3052.7683\n",
      "Iteration 25500 : Loss 3051.5075\n",
      "Iteration 25600 : Loss 3050.2580\n",
      "Iteration 25700 : Loss 3049.0197\n",
      "Iteration 25800 : Loss 3047.7924\n",
      "Iteration 25900 : Loss 3046.5760\n",
      "Iteration 26000 : Loss 3045.3705\n",
      "Iteration 26100 : Loss 3044.1757\n",
      "Iteration 26200 : Loss 3042.9915\n",
      "Iteration 26300 : Loss 3041.8178\n",
      "Iteration 26400 : Loss 3040.6546\n",
      "Iteration 26500 : Loss 3039.5017\n",
      "Iteration 26600 : Loss 3038.3590\n",
      "Iteration 26700 : Loss 3037.2264\n",
      "Iteration 26800 : Loss 3036.1039\n",
      "Iteration 26900 : Loss 3034.9913\n"
     ]
    },
    {
     "name": "stdout",
     "output_type": "stream",
     "text": [
      "Iteration 27000 : Loss 3033.8885\n",
      "Iteration 27100 : Loss 3032.7954\n",
      "Iteration 27200 : Loss 3031.7120\n",
      "Iteration 27300 : Loss 3030.6382\n",
      "Iteration 27400 : Loss 3029.5738\n",
      "Iteration 27500 : Loss 3028.5188\n",
      "Iteration 27600 : Loss 3027.4731\n",
      "Iteration 27700 : Loss 3026.4366\n",
      "Iteration 27800 : Loss 3025.4092\n",
      "Iteration 27900 : Loss 3024.3908\n",
      "Iteration 28000 : Loss 3023.3813\n",
      "Iteration 28100 : Loss 3022.3807\n",
      "Iteration 28200 : Loss 3021.3889\n",
      "Iteration 28300 : Loss 3020.4058\n",
      "Iteration 28400 : Loss 3019.4312\n",
      "Iteration 28500 : Loss 3018.4652\n",
      "Iteration 28600 : Loss 3017.5077\n",
      "Iteration 28700 : Loss 3016.5585\n",
      "Iteration 28800 : Loss 3015.6176\n",
      "Iteration 28900 : Loss 3014.6849\n",
      "Iteration 29000 : Loss 3013.7603\n",
      "Iteration 29100 : Loss 3012.8438\n",
      "Iteration 29200 : Loss 3011.9353\n",
      "Iteration 29300 : Loss 3011.0347\n",
      "Iteration 29400 : Loss 3010.1419\n",
      "Iteration 29500 : Loss 3009.2569\n",
      "Iteration 29600 : Loss 3008.3796\n",
      "Iteration 29700 : Loss 3007.5099\n",
      "Iteration 29800 : Loss 3006.6477\n",
      "Iteration 29900 : Loss 3005.7930\n"
     ]
    }
   ],
   "source": [
    "for i in range(1, 30000):\n",
    "    dw, db = gradient(x_train, w, b, y_train)\n",
    "    w -= learnin_rate * dw\n",
    "    b -= learnin_rate * db\n",
    "    l = loss(x_train, w, b, y_train)\n",
    "    losses.append(l)\n",
    "    if i % 100 == 0:\n",
    "        print('Iteration %d : Loss %0.4f' % (i, l))"
   ]
  },
  {
   "cell_type": "code",
   "execution_count": 45,
   "metadata": {
    "scrolled": true
   },
   "outputs": [
    {
     "data": {
      "image/png": "[encoded data removed]",
      "text/plain": [
       "<Figure size 432x288 with 1 Axes>"
      ]
     },
     "metadata": {
      "needs_background": "light"
     },
     "output_type": "display_data"
    }
   ],
   "source": [
    "import matplotlib.pyplot as plt\n",
    "plt.plot(losses)\n",
    "plt.show()"
   ]
  },
  {
   "cell_type": "code",
   "execution_count": 46,
   "metadata": {},
   "outputs": [
    {
     "data": {
      "text/plain": [
       "(array([ 0.05987114,  0.05068012,  0.02289497,  0.04941532,  0.01631843,\n",
       "         0.01183836, -0.01394774, -0.00259226,  0.03953988,  0.01963284]),\n",
       " 232.0)"
      ]
     },
     "execution_count": 46,
     "metadata": {},
     "output_type": "execute_result"
    }
   ],
   "source": [
    "x_test[10], y_test[10]"
   ]
  },
  {
   "cell_type": "code",
   "execution_count": 47,
   "metadata": {
    "scrolled": true
   },
   "outputs": [
    {
     "data": {
      "text/plain": [
       "2658.2546122238437"
      ]
     },
     "execution_count": 47,
     "metadata": {},
     "output_type": "execute_result"
    }
   ],
   "source": [
    "prediction = model(x_test, w, b)\n",
    "mse = loss(x_test, w, b, y_test)\n",
    "mse"
   ]
  },
  {
   "cell_type": "code",
   "execution_count": 48,
   "metadata": {
    "scrolled": true
   },
   "outputs": [
    {
     "data": {
      "image/png": "[encoded data removed]",
      "text/plain": [
       "<Figure size 432x288 with 1 Axes>"
      ]
     },
     "metadata": {
      "needs_background": "light"
     },
     "output_type": "display_data"
    }
   ],
   "source": [
    "# x_test[:, 0]<-(특정 변수)는 y_test,prediction의 비교를 위해 x축에 세운 것이다\n",
    "# x_test[:,1]이 되어도 상관은 없지만\n",
    "# x_test[:, 0]이던 x_test[:, 1]이던 그래프의 개형을 보고 상관관계가 있어보이면\n",
    "# 그 변수는 결과값과 어느정도 상관관계가 있다고도 볼 수 있다. \n",
    "plt.scatter(x_test[:, 0], y_test)\n",
    "plt.scatter(x_test[:,0], prediction)\n",
    "plt.show()"
   ]
  },
  {
   "cell_type": "code",
   "execution_count": null,
   "metadata": {},
   "outputs": [],
   "source": []
  },
  {
   "cell_type": "code",
   "execution_count": null,
   "metadata": {},
   "outputs": [],
   "source": []
  },
  {
   "cell_type": "code",
   "execution_count": null,
   "metadata": {},
   "outputs": [],
   "source": []
  },
  {
   "cell_type": "code",
   "execution_count": null,
   "metadata": {},
   "outputs": [],
   "source": []
  },
  {
   "cell_type": "code",
   "execution_count": null,
   "metadata": {},
   "outputs": [],
   "source": []
  },
  {
   "cell_type": "code",
   "execution_count": null,
   "metadata": {},
   "outputs": [],
   "source": []
  }
 ],
 "metadata": {
  "kernelspec": {
   "display_name": "Python 3",
   "language": "python",
   "name": "python3"
  },
  "language_info": {
   "codemirror_mode": {
    "name": "ipython",
    "version": 3
   },
   "file_extension": ".py",
   "mimetype": "text/x-python",
   "name": "python",
   "nbconvert_exporter": "python",
   "pygments_lexer": "ipython3",
   "version": "3.7.6"
  }
 },
 "nbformat": 4,
 "nbformat_minor": 4
}
